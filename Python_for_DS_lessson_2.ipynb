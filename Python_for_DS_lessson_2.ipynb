{
  "nbformat": 4,
  "nbformat_minor": 0,
  "metadata": {
    "colab": {
      "provenance": []
    },
    "kernelspec": {
      "name": "python3",
      "display_name": "Python 3"
    },
    "language_info": {
      "name": "python"
    }
  },
  "cells": [
    {
      "cell_type": "markdown",
      "source": [
        "**Тема “Вычисления с помощью Numpy”**\n"
      ],
      "metadata": {
        "id": "_t8n1kcWk5lc"
      }
    },
    {
      "cell_type": "markdown",
      "source": [
        "*Задание 1*\n",
        "\n",
        "Создайте массив Numpy под названием a размером 5x2, то есть состоящий из 5 строк\n",
        "и 2 столбцов. Первый столбец должен содержать числа 1, 2, 3, 3, 1, а второй - числа 6,\n",
        "8, 11, 10, 7. Будем считать, что каждый столбец - это признак, а строка - наблюдение.\n",
        "Затем найдите среднее значение по каждому признаку, используя метод mean массива\n",
        "Numpy. Результат запишите в массив mean_a, в нем должно быть 2 элемента.\n"
      ],
      "metadata": {
        "id": "vO6MQLGjlHUy"
      }
    },
    {
      "cell_type": "code",
      "execution_count": 1,
      "metadata": {
        "id": "XUXqOetQkv6n"
      },
      "outputs": [],
      "source": [
        "import numpy as np"
      ]
    },
    {
      "cell_type": "code",
      "source": [
        "a = np.array([[1, 6],\n",
        "              [2, 8],\n",
        "              [3, 11],\n",
        "              [3, 10],\n",
        "              [1, 7]])\n"
      ],
      "metadata": {
        "id": "nxOLXneElOzl"
      },
      "execution_count": 2,
      "outputs": []
    },
    {
      "cell_type": "code",
      "source": [
        "# Нахождение среднего значения по каждому признаку\n",
        "mean_a = np.mean(a, axis=0)"
      ],
      "metadata": {
        "id": "daUzHBzTlOwi"
      },
      "execution_count": 3,
      "outputs": []
    },
    {
      "cell_type": "code",
      "source": [
        " # Вывод средних значений по каждому признаку\n",
        "print(mean_a)"
      ],
      "metadata": {
        "colab": {
          "base_uri": "https://localhost:8080/"
        },
        "id": "hYe2LtColOtH",
        "outputId": "2bb74d0d-d7ab-4866-b81d-2718405dd92f"
      },
      "execution_count": 4,
      "outputs": [
        {
          "output_type": "stream",
          "name": "stdout",
          "text": [
            "[2.  8.4]\n"
          ]
        }
      ]
    },
    {
      "cell_type": "markdown",
      "source": [
        "*Задание 2*\n",
        "\n",
        "Вычислите массив a_centered, отняв от значений массива “а” средние значения\n",
        "соответствующих признаков, содержащиеся в массиве mean_a. Вычисление должно\n",
        "производиться в одно действие. Получившийся массив должен иметь размер 5x2"
      ],
      "metadata": {
        "id": "6z7Y6umvmlH2"
      }
    },
    {
      "cell_type": "code",
      "source": [
        "# Вычисление массива a_centered\n",
        "a_centered = a - mean_a"
      ],
      "metadata": {
        "id": "Jv-tfEm2lOqN"
      },
      "execution_count": 5,
      "outputs": []
    },
    {
      "cell_type": "code",
      "source": [
        "# Вывод полученного массива a_centered\n",
        "print(a_centered)"
      ],
      "metadata": {
        "colab": {
          "base_uri": "https://localhost:8080/"
        },
        "id": "w4laTGgnmzM8",
        "outputId": "1c1c2e8c-f415-468d-f43c-436faf3b1ca8"
      },
      "execution_count": 6,
      "outputs": [
        {
          "output_type": "stream",
          "name": "stdout",
          "text": [
            "[[-1.  -2.4]\n",
            " [ 0.  -0.4]\n",
            " [ 1.   2.6]\n",
            " [ 1.   1.6]\n",
            " [-1.  -1.4]]\n"
          ]
        }
      ]
    },
    {
      "cell_type": "markdown",
      "source": [
        "*Задание 3*\n",
        "\n",
        "Найдите скалярное произведение столбцов массива a_centered. В результате должна получиться величина a_centered_sp. Затем поделите a_centered_sp на N-1, где N - число наблюдений."
      ],
      "metadata": {
        "id": "BSmGEYzFnNju"
      }
    },
    {
      "cell_type": "code",
      "source": [
        "# Вычисление массива a_centered\n",
        "a_centered = a - mean_a"
      ],
      "metadata": {
        "id": "qeCzu9nimzJh"
      },
      "execution_count": 7,
      "outputs": []
    },
    {
      "cell_type": "code",
      "source": [
        "# Нахождение скалярного произведения столбцов массива a_centered\n",
        "a_centered_sp = np.dot(a_centered[:, 0], a_centered[:, 1])"
      ],
      "metadata": {
        "id": "FwF8Ikhtnble"
      },
      "execution_count": 8,
      "outputs": []
    },
    {
      "cell_type": "code",
      "source": [
        "# Вычисление результатов\n",
        "result = a_centered_sp / (a.shape[0] - 1)"
      ],
      "metadata": {
        "id": "AX-Rcuj5nfv4"
      },
      "execution_count": 9,
      "outputs": []
    },
    {
      "cell_type": "code",
      "source": [
        "# Вывод результата\n",
        "print(result)"
      ],
      "metadata": {
        "colab": {
          "base_uri": "https://localhost:8080/"
        },
        "id": "psqnsMKInmVE",
        "outputId": "ffebd750-ffb1-4eb3-923c-de331c2b363c"
      },
      "execution_count": 10,
      "outputs": [
        {
          "output_type": "stream",
          "name": "stdout",
          "text": [
            "2.0\n"
          ]
        }
      ]
    },
    {
      "cell_type": "markdown",
      "source": [
        "*Задание 4*\n",
        "\n",
        "Число, которое мы получили в конце задания 3 является ковариацией двух признаков, содержащихся\n",
        "в массиве “а”. В задании 4 мы делили сумму произведений центрированных признаков на N-1, а не на\n",
        "N, поэтому полученная нами величина является несмещенной оценкой ковариации.\n",
        "\n",
        "В этом задании проверьте получившееся число, вычислив ковариацию еще одним способом - с\n",
        "помощью функции np.cov. В качестве аргумента m функция np.cov должна принимать\n",
        "транспонированный массив “a”. В получившейся ковариационной матрице (массив Numpy размером\n",
        "2x2) искомое значение ковариации будет равно элементу в строке с индексом 0 и столбце с индексом\n",
        "1.\n"
      ],
      "metadata": {
        "id": "UQS3SMylntn4"
      }
    },
    {
      "cell_type": "code",
      "source": [
        "# Вычисление ковариации с помощью np.cov\n",
        "cov_matrix = np.cov(a.T)\n",
        "covariance = cov_matrix[0, 1]"
      ],
      "metadata": {
        "id": "W5hc9VEIn0UC"
      },
      "execution_count": 11,
      "outputs": []
    },
    {
      "cell_type": "code",
      "source": [
        "# Вывод ковариации\n",
        "print(covariance)"
      ],
      "metadata": {
        "colab": {
          "base_uri": "https://localhost:8080/"
        },
        "id": "mGpt0Mrjo9_r",
        "outputId": "7eb204be-a9e9-489b-c14f-b11973502ded"
      },
      "execution_count": 12,
      "outputs": [
        {
          "output_type": "stream",
          "name": "stdout",
          "text": [
            "2.0\n"
          ]
        }
      ]
    },
    {
      "cell_type": "markdown",
      "source": [
        "**Тема “Работа с данными в Pandas”**"
      ],
      "metadata": {
        "id": "W4LweUcGpMKd"
      }
    },
    {
      "cell_type": "markdown",
      "source": [
        "*Задание 1*\n",
        "\n",
        "Импортируйте библиотеку Pandas и дайте ей псевдоним pd. Создайте датафрейм authors со\n",
        "столбцами author_id и author_name, в которых соответственно содержатся данные: [1, 2, 3] и\n",
        "['Тургенев', 'Чехов', 'Островский'].\n",
        "Затем создайте датафрейм book cо столбцами author_id, book_title и price, в которых соответственно\n",
        "содержатся данные:\n",
        "[1, 1, 1, 2, 2, 3, 3],\n",
        "['Отцы и дети', 'Рудин', 'Дворянское гнездо', 'Толстый и тонкий', 'Дама с собачкой', 'Гроза', 'Таланты и\n",
        "поклонники']\n",
        "Нужны prices!\n",
        "[500, 400, 300, 350, 450, 600, 200]"
      ],
      "metadata": {
        "id": "cfrhxlDGpL8Y"
      }
    },
    {
      "cell_type": "code",
      "source": [
        "import pandas as pd"
      ],
      "metadata": {
        "id": "XutnslxSpoZx"
      },
      "execution_count": 13,
      "outputs": []
    },
    {
      "cell_type": "code",
      "source": [
        "# Создание датафрейма authors\n",
        "authors = pd.DataFrame({\n",
        "    'author_id': [1, 2, 3],\n",
        "    'author_name': ['Тургенев', 'Чехов', 'Островский']\n",
        "})\n"
      ],
      "metadata": {
        "id": "nk0qnj-opwdd"
      },
      "execution_count": 14,
      "outputs": []
    },
    {
      "cell_type": "code",
      "source": [
        "# Создание датафрейма books\n",
        "books = pd.DataFrame({\n",
        "    'author_id': [1, 1, 1, 2, 2, 3, 3],\n",
        "    'book_title': ['Отцы и дети', 'Рудин', 'Дворянское гнездо', 'Толстый и тонкий', 'Дама с собачкой', 'Гроза', 'Таланты и поклонники'],\n",
        "    'price': [500, 400, 300, 350, 450, 600, 200]\n",
        "})"
      ],
      "metadata": {
        "id": "Mu5ahRQ6p0Oj"
      },
      "execution_count": 29,
      "outputs": []
    },
    {
      "cell_type": "code",
      "source": [
        "print(authors)  # Вывод датафрейма authors\n",
        "print(books)    # Вывод датафрейма books\n"
      ],
      "metadata": {
        "colab": {
          "base_uri": "https://localhost:8080/"
        },
        "id": "2BulEQGmp4Bs",
        "outputId": "403a6ba9-5460-4439-aca2-2c2c91384523"
      },
      "execution_count": 30,
      "outputs": [
        {
          "output_type": "stream",
          "name": "stdout",
          "text": [
            "   author_id author_name\n",
            "0          1    Тургенев\n",
            "1          2       Чехов\n",
            "2          3  Островский\n",
            "   author_id            book_title  price\n",
            "0          1           Отцы и дети    500\n",
            "1          1                 Рудин    400\n",
            "2          1     Дворянское гнездо    300\n",
            "3          2      Толстый и тонкий    350\n",
            "4          2       Дама с собачкой    450\n",
            "5          3                 Гроза    600\n",
            "6          3  Таланты и поклонники    200\n"
          ]
        }
      ]
    },
    {
      "cell_type": "code",
      "source": [],
      "metadata": {
        "id": "Q7GyvxV6qZvx"
      },
      "execution_count": 16,
      "outputs": []
    },
    {
      "cell_type": "code",
      "source": [
        "# Еще вариант\n",
        "import pandas as pd\n",
        "\n",
        "authors = pd.DataFrame({\n",
        "    'author_id': [1, 2, 3],\n",
        "    'author_name': ['Тургенев', 'Чехов', 'Островский']\n",
        "})\n",
        "\n",
        "books = pd.DataFrame({\n",
        "    'author_id': [1, 1, 1, 2, 2, 3, 3],\n",
        "    'book_title': ['Отцы и дети', 'Рудин', 'Дворянское гнездо', 'Толстый и тонкий', 'Дама с собачкой', 'Гроза', 'Таланты и поклонники'],\n",
        "    'price': [500, 400, 300, 350, 450, 600, 200]\n",
        "})\n",
        "\n",
        "books['price']"
      ],
      "metadata": {
        "colab": {
          "base_uri": "https://localhost:8080/"
        },
        "id": "qnnpZWW0qZr1",
        "outputId": "96c1efa4-ef0a-4a3d-c4e2-c245f4809c18"
      },
      "execution_count": 32,
      "outputs": [
        {
          "output_type": "execute_result",
          "data": {
            "text/plain": [
              "0    500\n",
              "1    400\n",
              "2    300\n",
              "3    350\n",
              "4    450\n",
              "5    600\n",
              "6    200\n",
              "Name: price, dtype: int64"
            ]
          },
          "metadata": {},
          "execution_count": 32
        }
      ]
    },
    {
      "cell_type": "markdown",
      "source": [
        "*Задание 2*\n",
        "\n",
        "Получите датафрейм authors_price, соединив дата фреймы authors и books по полю author_id.\n"
      ],
      "metadata": {
        "id": "kTMU_6xWw04R"
      }
    },
    {
      "cell_type": "code",
      "source": [
        "# Соединение датафреймов по полю author_id\n",
        "authors_price = pd.merge(authors, books, on='author_id', how='inner')"
      ],
      "metadata": {
        "id": "iBf0HgmmwYk5"
      },
      "execution_count": 34,
      "outputs": []
    },
    {
      "cell_type": "code",
      "source": [
        "print(authors_price)"
      ],
      "metadata": {
        "colab": {
          "base_uri": "https://localhost:8080/"
        },
        "id": "EUO2kAb8xLDq",
        "outputId": "d61092ff-9719-4430-82ef-616b94dd5bd4"
      },
      "execution_count": 35,
      "outputs": [
        {
          "output_type": "stream",
          "name": "stdout",
          "text": [
            "   author_id author_name            book_title  price\n",
            "0          1    Тургенев           Отцы и дети    500\n",
            "1          1    Тургенев                 Рудин    400\n",
            "2          1    Тургенев     Дворянское гнездо    300\n",
            "3          2       Чехов      Толстый и тонкий    350\n",
            "4          2       Чехов       Дама с собачкой    450\n",
            "5          3  Островский                 Гроза    600\n",
            "6          3  Островский  Таланты и поклонники    200\n"
          ]
        }
      ]
    },
    {
      "cell_type": "markdown",
      "source": [
        "*Задание 3*\n",
        "\n",
        "Создайте датафрейм top5, в котором содержатся строки из authors_price с пятью самыми дорогими\n",
        "книгами"
      ],
      "metadata": {
        "id": "dhOJAKwaxTUZ"
      }
    },
    {
      "cell_type": "code",
      "source": [
        "top5 = authors_price.nlargest(5, 'price')\n",
        "print(top5)"
      ],
      "metadata": {
        "colab": {
          "base_uri": "https://localhost:8080/"
        },
        "id": "KvWOExUsxZ1v",
        "outputId": "41daf186-2419-41ea-e9b2-2436d860b4d8"
      },
      "execution_count": 36,
      "outputs": [
        {
          "output_type": "stream",
          "name": "stdout",
          "text": [
            "   author_id author_name        book_title  price\n",
            "5          3  Островский             Гроза    600\n",
            "0          1    Тургенев       Отцы и дети    500\n",
            "4          2       Чехов   Дама с собачкой    450\n",
            "1          1    Тургенев             Рудин    400\n",
            "3          2       Чехов  Толстый и тонкий    350\n"
          ]
        }
      ]
    },
    {
      "cell_type": "markdown",
      "source": [
        "*Задание 4*\n",
        "\n",
        "Создайте датафрейм authors_stat на основе информации из authors_price. В датафрейме authors_stat\n",
        "должны быть четыре столбца:\n",
        "author_name, min_price, max_price и mean_price,\n",
        "в которых должны содержаться соответственно имя автора, минимальная, максимальная и средняя\n",
        "цена на книги этого автора.\n"
      ],
      "metadata": {
        "id": "lfjrAIn5x53K"
      }
    },
    {
      "cell_type": "code",
      "source": [
        "# Создание датафрейма authors_stat\n",
        "authors_stat = authors_price.groupby('author_name').agg(\n",
        "    min_price=('price', 'min'),\n",
        "    max_price=('price', 'max'),\n",
        "    mean_price=('price', 'mean')\n",
        ").reset_index()\n",
        "\n",
        "print(authors_stat)"
      ],
      "metadata": {
        "colab": {
          "base_uri": "https://localhost:8080/"
        },
        "id": "3Xa8bZ8Zx-f9",
        "outputId": "41769e62-6951-4780-fda5-f97f2d344184"
      },
      "execution_count": 37,
      "outputs": [
        {
          "output_type": "stream",
          "name": "stdout",
          "text": [
            "  author_name  min_price  max_price  mean_price\n",
            "0  Островский        200        600       400.0\n",
            "1    Тургенев        300        500       400.0\n",
            "2       Чехов        350        450       400.0\n"
          ]
        }
      ]
    },
    {
      "cell_type": "markdown",
      "source": [
        "*Задание 5*\n",
        "\n",
        "Создайте новый столбец в датафрейме authors_price под названием cover, в нем будут располагаться\n",
        "данные о том, какая обложка у данной книги - твердая или мягкая. В этот столбец поместите данные\n",
        "из следующего списка:\n",
        "['твердая', 'мягкая', 'мягкая', 'твердая', 'твердая', 'мягкая', 'мягкая'].\n",
        "Просмотрите документацию по функции pd.pivot table с помощью вопросительного знака.\n",
        "Для каждого автора посчитайте суммарную стоимость книг в твердой и мягкой обложке. Используйте\n",
        "для этого функцию pd.pivot_table. При этом столбцы должны называться \"твердая\" и \"мягкая\", а\n",
        "индексами должны быть фамилии авторов. Пропущенные значения стоимостей заполните нулями,\n",
        "при необходимости загрузите библиотеку Numpy.\n",
        "Назовите полученный датасет book_info и сохраните его в формат pickle под названием\n",
        "\"book_info.pkl\". Затем загрузите из этого файла датафрейм и назовите его book_info2. Удостоверьтесь,\n",
        "что датафреймы book_info и book_info2 идентичны.\n"
      ],
      "metadata": {
        "id": "uFubpcyMylDJ"
      }
    },
    {
      "cell_type": "code",
      "source": [
        "# Соединение датафреймов по полю author_id\n",
        "authors_price = pd.merge(authors, books, on='author_id', how='inner')\n",
        "\n",
        "# Добавление столбца cover\n",
        "authors_price['cover'] = ['твердая', 'мягкая', 'мягкая', 'твердая', 'твердая', 'мягкая', 'мягкая']\n",
        "\n",
        "# Использование pd.pivot_table\n",
        "book_info = pd.pivot_table(authors_price, values='price', index=['author_name'], columns=['cover'], aggfunc='sum', fill_value=0)\n"
      ],
      "metadata": {
        "id": "lXGiOHpKywnU"
      },
      "execution_count": 38,
      "outputs": []
    },
    {
      "cell_type": "code",
      "source": [
        "# Сохранение в формате pickle\n",
        "book_info.to_pickle('book_info.pkl')"
      ],
      "metadata": {
        "id": "D4SS1GJ_zGBv"
      },
      "execution_count": 39,
      "outputs": []
    },
    {
      "cell_type": "code",
      "source": [
        "# Загрузка из файла\n",
        "book_info2 = pd.read_pickle('book_info.pkl')"
      ],
      "metadata": {
        "id": "FoOxM5vBzPwJ"
      },
      "execution_count": 40,
      "outputs": []
    },
    {
      "cell_type": "code",
      "source": [
        "# Проверка идентичности датафреймов\n",
        "print(book_info.equals(book_info2))\n",
        "print(book_info)\n",
        "print(book_info2)"
      ],
      "metadata": {
        "colab": {
          "base_uri": "https://localhost:8080/"
        },
        "id": "JrN6ukyezRWP",
        "outputId": "832a4c8a-9841-49f9-edeb-0bc2b89aa968"
      },
      "execution_count": 41,
      "outputs": [
        {
          "output_type": "stream",
          "name": "stdout",
          "text": [
            "True\n",
            "cover        мягкая  твердая\n",
            "author_name                 \n",
            "Островский      800        0\n",
            "Тургенев        700      500\n",
            "Чехов             0      800\n",
            "cover        мягкая  твердая\n",
            "author_name                 \n",
            "Островский      800        0\n",
            "Тургенев        700      500\n",
            "Чехов             0      800\n"
          ]
        }
      ]
    },
    {
      "cell_type": "code",
      "source": [
        "book_info.equals(book_info2)"
      ],
      "metadata": {
        "colab": {
          "base_uri": "https://localhost:8080/"
        },
        "id": "PRRBaT9yzeG1",
        "outputId": "8fbff0f0-19e5-48db-a843-88b50b6a349c"
      },
      "execution_count": 42,
      "outputs": [
        {
          "output_type": "execute_result",
          "data": {
            "text/plain": [
              "True"
            ]
          },
          "metadata": {},
          "execution_count": 42
        }
      ]
    }
  ]
}